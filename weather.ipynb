{
 "cells": [
  {
   "cell_type": "markdown",
   "metadata": {},
   "source": []
  },
  {
   "cell_type": "markdown",
   "metadata": {},
   "source": [
    "\n",
    "**Task 1: Create Directory Structure**\n",
    "\n",
    "- **Clarification:** You are organizing files by creating a folder structure. The data folder is the main directory, and timestamps and weather are subfolders. This keeps your work organized.\n",
    "\n",
    "*Create the directories using command line: mkdir*\n",
    "\n",
    "- mkdir -p data/timestamps data/weather"
   ]
  },
  {
   "cell_type": "markdown",
   "metadata": {},
   "source": [
    "**Task 2: Timestamps**\n",
    "\n",
    "- **Clarification:** You are recording the current date and time into a file named now.txt. Using >> adds each date to the end of the file without erasing previous entries.\n",
    "\n",
    "Navigate to data/timestamps:\n",
    "\n",
    "- cd data/timestamps\n",
    "\n",
    "*Append the current date and time to now.txt:*\n",
    "\n",
    "- date >> now.txt"
   ]
  },
  {
   "cell_type": "markdown",
   "metadata": {},
   "source": [
    "**Task 3: Formatting Timestamps**\n",
    "\n",
    "- **Clarification:** You’re learning how to format dates using date. The output format YYYYmmdd_HHMMSS is practical for filenames because it’s easy to sort and read.\n",
    "\n",
    "*Format the timestamp using date*\n",
    "\n",
    "- date \"+%Y%m%d_%H%M%S\" >> formatted.txt\n",
    "\n",
    "*Using the man date*\n",
    "\n",
    "- man date"
   ]
  },
  {
   "cell_type": "markdown",
   "metadata": {
    "vscode": {
     "languageId": "plaintext"
    }
   },
   "source": [
    "**Task 4: Create Timestamped Files**\n",
    "\n",
    "- **Clarification:** You’re creating empty files with names based on timestamps, which is useful for logging events.\n",
    "\n",
    "*Create a file with a formatted name using touch and date:*\n",
    "\n",
    "- touch \"$(date \"+%Y%m%d_%H%M%S\").txt\""
   ]
  },
  {
   "cell_type": "markdown",
   "metadata": {
    "vscode": {
     "languageId": "plaintext"
    }
   },
   "source": [
    "**Task 5: Download Today's Weather Data**\n",
    "\n",
    "- **Clarification:** You are retrieving weather data from an online source using the wget command and saving it as weather.json.\n",
    "\n",
    "*Navigate to data/weather:*\n",
    "\n",
    "- Copy code\n",
    "\n",
    "*The weather date:\n",
    "\n",
    "- wget -O weather.json https://prodapi.metweb.ie/observations/athenry/today\n"
   ]
  },
  {
   "cell_type": "markdown",
   "metadata": {},
   "source": [
    "**Task 6: Timestamp the Data**\n",
    "\n",
    "- **Clarification:** You are making the filename for the downloaded data unique by adding a timestamp. This helps avoid overwriting older files.\n",
    "\n",
    "*Modify the wget command to include a timestamped filename:*\n",
    "\n",
    "- wget -O \"weather_$(date \"+%Y%m%d_%H%M%S\").json\" https://prodapi.metweb.ie/observations/athenry/today"
   ]
  },
  {
   "cell_type": "markdown",
   "metadata": {},
   "source": [
    "**Task 7: Write the Script**\n",
    "\n",
    "- **Clarification:** You are automating the process of downloading and saving timestamped weather data by writing a bash script.\n",
    "\n",
    "*Create a file named weather.sh*\n",
    "\n",
    "- nano weather.sh\n",
    "\n",
    "*Add the following script:*\n",
    "\n",
    "- #!/bin/bash\n",
    "TARGET_DIR=\"data/weather\"\n",
    "mkdir -p \"$TARGET_DIR\"\n",
    "FILENAME=\"weather_$(date \"+%Y%m%d_%H%M%S\").json\"\n",
    "wget -O \"$TARGET_DIR/$FILENAME\" https://prodapi.metweb.ie/observations/athenry/today\n",
    "echo \"Weather data saved as $TARGET_DIR/$FILENAME\"\n",
    "\n",
    "*Make the script executable:*\n",
    "\n",
    "- chmod u+x weather.sh\n",
    "\n",
    "*Run the script*\n",
    "\n",
    "- /.weather.sh\n"
   ]
  },
  {
   "cell_type": "markdown",
   "metadata": {},
   "source": [
    "### Tasks weather analysis:\n"
   ]
  },
  {
   "cell_type": "code",
   "execution_count": 12,
   "metadata": {},
   "outputs": [],
   "source": [
    "import pandas as pd\n"
   ]
  },
  {
   "cell_type": "code",
   "execution_count": 19,
   "metadata": {},
   "outputs": [],
   "source": [
    "# Load the JSON file\n",
    "weather_df = pd.read_json('data/weather/20241118_093936.json')"
   ]
  },
  {
   "cell_type": "code",
   "execution_count": 20,
   "metadata": {},
   "outputs": [
    {
     "name": "stdout",
     "output_type": "stream",
     "text": [
      "      name  temperature symbol  weatherDescription               text  \\\n",
      "0  Athenry            8    46n         Light rain       \"Light rain \"   \n",
      "1  Athenry            8    46n         Light rain   \"Recent Drizzle \"   \n",
      "2  Athenry            7    05n        Rain showers      \"Rain shower\"   \n",
      "3  Athenry            7    40n  Light rain showers      \"Recent Rain\"   \n",
      "4  Athenry            7    15n          Fog / Mist             \"Mist\"   \n",
      "\n",
      "   windSpeed windGust cardinalWindDirection  windDirection  humidity  \\\n",
      "0          6        -                    NW            315        97   \n",
      "1          6        -                     N              0        97   \n",
      "2          4        -                    NW            315        97   \n",
      "3          2        -                     N              0        97   \n",
      "4          2        -                     S            180        99   \n",
      "\n",
      "   rainfall  pressure dayName       date reportTime  \n",
      "0      0.01      1014  Monday 2024-11-18      00:00  \n",
      "1      0.10      1014  Monday 2024-11-18      01:00  \n",
      "2      0.01      1014  Monday 2024-11-18      02:00  \n",
      "3      0.01      1014  Monday 2024-11-18      03:00  \n",
      "4      0.00      1013  Monday 2024-11-18      04:00  \n"
     ]
    }
   ],
   "source": [
    "# Summarize the data\n",
    "print(weather_df.head())       # Display first 5 rows"
   ]
  },
  {
   "cell_type": "code",
   "execution_count": 21,
   "metadata": {},
   "outputs": [
    {
     "name": "stdout",
     "output_type": "stream",
     "text": [
      "<class 'pandas.core.frame.DataFrame'>\n",
      "RangeIndex: 10 entries, 0 to 9\n",
      "Data columns (total 15 columns):\n",
      " #   Column                 Non-Null Count  Dtype         \n",
      "---  ------                 --------------  -----         \n",
      " 0   name                   10 non-null     object        \n",
      " 1   temperature            10 non-null     int64         \n",
      " 2   symbol                 10 non-null     object        \n",
      " 3   weatherDescription     10 non-null     object        \n",
      " 4   text                   10 non-null     object        \n",
      " 5   windSpeed              10 non-null     int64         \n",
      " 6   windGust               10 non-null     object        \n",
      " 7   cardinalWindDirection  10 non-null     object        \n",
      " 8   windDirection          10 non-null     int64         \n",
      " 9   humidity               10 non-null     int64         \n",
      " 10  rainfall               10 non-null     float64       \n",
      " 11  pressure               10 non-null     int64         \n",
      " 12  dayName                10 non-null     object        \n",
      " 13  date                   10 non-null     datetime64[ns]\n",
      " 14  reportTime             10 non-null     object        \n",
      "dtypes: datetime64[ns](1), float64(1), int64(5), object(8)\n",
      "memory usage: 1.3+ KB\n",
      "None\n"
     ]
    }
   ],
   "source": [
    "# Summarize the data\n",
    "print(weather_df.info())       # General info about the dataset"
   ]
  },
  {
   "cell_type": "code",
   "execution_count": 23,
   "metadata": {},
   "outputs": [
    {
     "name": "stdout",
     "output_type": "stream",
     "text": [
      "       temperature  windSpeed  windDirection   humidity   rainfall  \\\n",
      "count    10.000000  10.000000      10.000000  10.000000  10.000000   \n",
      "mean      7.100000   5.900000     126.000000  96.700000   0.234000   \n",
      "min       6.000000   2.000000       0.000000  95.000000   0.000000   \n",
      "25%       7.000000   4.000000      90.000000  96.250000   0.010000   \n",
      "50%       7.000000   6.000000      90.000000  97.000000   0.055000   \n",
      "75%       7.000000   6.750000     157.500000  97.000000   0.550000   \n",
      "max       8.000000  13.000000     315.000000  99.000000   0.700000   \n",
      "std       0.567646   3.314949     111.848111   1.159502   0.323666   \n",
      "\n",
      "          pressure                 date  \n",
      "count    10.000000                   10  \n",
      "mean   1013.100000  2024-11-18 00:00:00  \n",
      "min    1011.000000  2024-11-18 00:00:00  \n",
      "25%    1013.000000  2024-11-18 00:00:00  \n",
      "50%    1013.000000  2024-11-18 00:00:00  \n",
      "75%    1014.000000  2024-11-18 00:00:00  \n",
      "max    1014.000000  2024-11-18 00:00:00  \n",
      "std       0.994429                  NaN  \n"
     ]
    }
   ],
   "source": [
    "# Summarize the data\n",
    "print(weather_df.describe())   # Statistical summary of numerical columns"
   ]
  },
  {
   "cell_type": "code",
   "execution_count": null,
   "metadata": {},
   "outputs": [],
   "source": []
  }
 ],
 "metadata": {
  "kernelspec": {
   "display_name": "Python 3",
   "language": "python",
   "name": "python3"
  },
  "language_info": {
   "codemirror_mode": {
    "name": "ipython",
    "version": 3
   },
   "file_extension": ".py",
   "mimetype": "text/x-python",
   "name": "python",
   "nbconvert_exporter": "python",
   "pygments_lexer": "ipython3",
   "version": "3.12.1"
  }
 },
 "nbformat": 4,
 "nbformat_minor": 2
}
