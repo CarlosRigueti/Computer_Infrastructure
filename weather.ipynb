{
 "cells": [
  {
   "cell_type": "markdown",
   "metadata": {},
   "source": [
    "\n",
    "**Task 1: Create Directory Structure**\n",
    "\n",
    "- **Clarification:** You are organizing files by creating a folder structure. The data folder is the main directory, and timestamps and weather are subfolders. This keeps your work organized.\n",
    "\n",
    "*Create the directories using command line: mkdir*\n",
    "\n",
    "- mkdir -p data/timestamps data/weather"
   ]
  },
  {
   "cell_type": "markdown",
   "metadata": {},
   "source": [
    "**Task 2: Timestamps**\n",
    "\n",
    "- **Clarification:** You are recording the current date and time into a file named now.txt. Using >> adds each date to the end of the file without erasing previous entries.\n",
    "\n",
    "Navigate to data/timestamps:\n",
    "\n",
    "- cd data/timestamps\n",
    "\n",
    "*Append the current date and time to now.txt:*\n",
    "\n",
    "- date >> now.txt"
   ]
  },
  {
   "cell_type": "markdown",
   "metadata": {},
   "source": [
    "**Task 3: Formatting Timestamps**\n",
    "\n",
    "- **Clarification:** You’re learning how to format dates using date. The output format YYYYmmdd_HHMMSS is practical for filenames because it’s easy to sort and read.\n",
    "\n",
    "*Format the timestamp using date*\n",
    "\n",
    "- date \"+%Y%m%d_%H%M%S\" >> formatted.txt\n",
    "\n",
    "*Using the man date*\n",
    "\n",
    "- man date"
   ]
  },
  {
   "cell_type": "markdown",
   "metadata": {
    "vscode": {
     "languageId": "plaintext"
    }
   },
   "source": [
    "**Task 4: Create Timestamped Files**\n",
    "\n",
    "- **Clarification:** You’re creating empty files with names based on timestamps, which is useful for logging events.\n",
    "\n",
    "*Create a file with a formatted name using touch and date:*\n",
    "\n",
    "- touch \"$(date \"+%Y%m%d_%H%M%S\").txt\""
   ]
  },
  {
   "cell_type": "markdown",
   "metadata": {
    "vscode": {
     "languageId": "plaintext"
    }
   },
   "source": [
    "**Task 5: Download Today's Weather Data**\n",
    "\n",
    "- **Clarification:** You are retrieving weather data from an online source using the wget command and saving it as weather.json.\n",
    "\n",
    "*Navigate to data/weather:*\n",
    "\n",
    "- Copy code\n",
    "\n",
    "*The weather date:\n",
    "\n",
    "- wget -O weather.json https://prodapi.metweb.ie/observations/athenry/today\n"
   ]
  },
  {
   "cell_type": "markdown",
   "metadata": {},
   "source": [
    "**Task 6: Timestamp the Data**\n",
    "\n",
    "- **Clarification:** You are making the filename for the downloaded data unique by adding a timestamp. This helps avoid overwriting older files.\n",
    "\n",
    "*Modify the wget command to include a timestamped filename:*\n",
    "\n",
    "- wget -O \"weather_$(date \"+%Y%m%d_%H%M%S\").json\" https://prodapi.metweb.ie/observations/athenry/today"
   ]
  },
  {
   "cell_type": "markdown",
   "metadata": {},
   "source": [
    "**Task 7: Write the Script**\n",
    "\n",
    "- **Clarification:** You are automating the process of downloading and saving timestamped weather data by writing a bash script.\n",
    "\n",
    "*Create a file named weather.sh*\n",
    "\n",
    "- nano weather.sh\n",
    "\n",
    "*Add the following script:*\n",
    "\n",
    "- #!/bin/bash\n",
    "TARGET_DIR=\"data/weather\"\n",
    "mkdir -p \"$TARGET_DIR\"\n",
    "FILENAME=\"weather_$(date \"+%Y%m%d_%H%M%S\").json\"\n",
    "wget -O \"$TARGET_DIR/$FILENAME\" https://prodapi.metweb.ie/observations/athenry/today\n",
    "echo \"Weather data saved as $TARGET_DIR/$FILENAME\"\n",
    "\n",
    "*Make the script executable:*\n",
    "\n",
    "- chmod u+x weather.sh\n",
    "\n",
    "*Run the script*\n",
    "\n",
    "- /.weather.sh\n"
   ]
  }
 ],
 "metadata": {
  "language_info": {
   "name": "python"
  }
 },
 "nbformat": 4,
 "nbformat_minor": 2
}
