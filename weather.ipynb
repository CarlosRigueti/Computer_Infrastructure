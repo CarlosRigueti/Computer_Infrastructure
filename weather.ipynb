{
 "cells": [
  {
   "cell_type": "markdown",
   "metadata": {},
   "source": [
    "**Computer Infrastructure - Assessment** \n",
    " \n",
    "**Author: Carlos Rigueti**\n",
    "\n",
    "This Jupyter Notebook serves as documentation for the Computer Infrastructure assessment in the Higher Diploma in Data Analytics course at ATU. It describes the process of completing tasks related to directory organization, timestamp handling, and automated weather data retrieval through command-line tools and Bash scripting. The report elaborates on the technical commands employed, their functions, and their integration into an automated workflow, showcasing practical system management and data processing techniques.\n",
    "\n",
    "---"
   ]
  },
  {
   "cell_type": "markdown",
   "metadata": {},
   "source": [
    "\n",
    "**Task 1: Create Directory Structure**  \n",
    "**Objective:** Organize files in a logical directory hierarchy for efficient data storage and access.\n",
    "\n",
    "**Steps:**\n",
    "- Created a root folder named \"data\" for this project.\n",
    "- Created two subdirectories, \"timestamps\" and \"weather,\" to organize time-related and weather-related data.\n",
    "\n",
    "**Commands:**\n",
    "```bash\n",
    "mkdir -p data/timestamps data/weather\n",
    "```\n",
    "\n",
    "**Explanation:**  \n",
    "The `mkdir` command with the `-p` flag allows for the simultaneous creation of parent directories and nested subdirectories."
   ]
  },
  {
   "cell_type": "markdown",
   "metadata": {},
   "source": [
    "**Task 2: Capturing Timestamps**  \n",
    "**Objective:** Log the current date and time into a file repeatedly to simulate time-based data collection.\n",
    "\n",
    "**Steps:**\n",
    "- Navigated to the \"data/timestamps\" directory.\n",
    "- Used the `date` command to capture the current date and time and append it to \"now.txt.\"\n",
    "- Repeated the process ten times, ensuring that all timestamps were stored without overwriting.\n",
    "\n",
    "**Commands:**\n",
    "```bash\n",
    "cd data/timestamps\n",
    "date >> now.txt\n",
    "```\n",
    "\n",
    "**Explanation:**  \n",
    "The `>>` operator appends output to the \"now.txt\" file, preserving existing data.\n"
   ]
  },
  {
   "cell_type": "markdown",
   "metadata": {},
   "source": [
    "**Task 3: Formatting Timestamps**  \n",
    "**Objective:** Generate timestamps in a readable and sortable format suitable for file naming.\n",
    "\n",
    "**Steps:**\n",
    "- Used the `date` command with a custom format string to produce timestamps in the format `YYYYmmdd_HHMMSS`.\n",
    "- Appended the formatted timestamps to a file called \"formatted.txt.\"\n",
    "\n",
    "**Commands:**\n",
    "```bash\n",
    "date \"+%Y%m%d_%H%M%S\" >> formatted.txt\n",
    "man date\n",
    "```\n",
    "\n",
    "**Explanation:**  \n",
    "The command `date \"+%Y%m%d_%H%M%S\"` customizes the date output. Referencing `man date` displays formatting options."
   ]
  },
  {
   "cell_type": "markdown",
   "metadata": {
    "vscode": {
     "languageId": "plaintext"
    }
   },
   "source": [
    "**Task 4: Creating Timestamped Files**  \n",
    "**Objective:** Automate the creation of files with timestamp-based names for event tracking.\n",
    "\n",
    "**Steps:**\n",
    "- Combined the `touch` command with the `date` command to dynamically generate and create uniquely named files.\n",
    "\n",
    "**Commands:**\n",
    "```bash\n",
    "touch \"$(date \"+%Y%m%d_%H%M%S\").txt\"\n",
    "```\n",
    "\n",
    "**Explanation:**  \n",
    "Using `$(...)`, the output of the `date` command is evaluated and integrated into the filename."
   ]
  },
  {
   "cell_type": "markdown",
   "metadata": {
    "vscode": {
     "languageId": "plaintext"
    }
   },
   "source": [
    "**Task 5: Downloading Today’s Weather Data**  \n",
    "**Objective:** Retrieve real-time weather data from an online source and save it locally.\n",
    "\n",
    "**Steps:**\n",
    "- Navigated to the \"data/weather\" directory.\n",
    "- Used the `wget` command to download weather data and save it as \"weather.json.\"\n",
    "\n",
    "**Commands:**\n",
    "```bash\n",
    "wget -O weather.json https://prodapi.metweb.ie/observations/athenry/today\n",
    "```\n",
    "\n",
    "**Explanation:**  \n",
    "The `-O` option specifies the output file name as \"weather.json.\""
   ]
  },
  {
   "cell_type": "markdown",
   "metadata": {},
   "source": [
    "**Task 6: Timestamping Weather Data**  \n",
    "**Objective:** Save downloaded weather data with unique, timestamped filenames to prevent overwriting.\n",
    "\n",
    "**Steps:**\n",
    "- Modified the `wget` command to include a dynamically generated timestamp in the filename.\n",
    "\n",
    "**Commands:**\n",
    "```bash\n",
    "wget -O \"weather_$(date \"+%Y%m%d_%H%M%S\").json\" https://prodapi.metweb.ie/observations/athenry/today\n",
    "```\n",
    "\n",
    "**Explanation:**  \n",
    "By embedding the `date` command, unique filenames ensure that data from different timestamps are preserved."
   ]
  },
  {
   "cell_type": "markdown",
   "metadata": {},
   "source": [
    "**Task 7: Writing a Bash Script**  \n",
    "**Objective:** Automate the process of downloading and saving timestamped weather data with a reusable script.\n",
    "\n",
    "**Steps:**\n",
    "- Created a Bash script named \"weather.sh.\"\n",
    "- Wrote a script that performs all steps from Task 6.\n",
    "- Made the script executable and tested its functionality.\n",
    "\n",
    "**Commands:**\n",
    "```bash\n",
    "nano weather.sh\n",
    "chmod u+x weather.sh\n",
    "./weather.sh\n",
    "```\n",
    "\n",
    "**Script Content:**\n",
    "```bash\n",
    "#!/bin/bash\n",
    "TARGET_DIR=\"data/weather\"\n",
    "mkdir -p \"$TARGET_DIR\"\n",
    "FILENAME=\"$TARGET_DIR/weather_$(date \"+%Y%m%d_%H%M%S\").json\"\n",
    "wget -O \"$FILENAME\" https://prodapi.metweb.ie/observations/athenry/today\n",
    "echo \"Weather data saved as $FILENAME\"\n",
    "```\n",
    "\n",
    "**Explanation:**  \n",
    "This script automates directory creation, timestamp generation, and file downloading.\n"
   ]
  },
  {
   "cell_type": "markdown",
   "metadata": {},
   "source": [
    "**Task 8: Notebook for Reporting**  \n",
    "**Objective:** Document all tasks with explanations and outputs in a Jupyter Notebook.\n",
    "\n",
    "**Steps:**\n",
    "- Created a file named \"weather.ipynb.\"\n",
    "- Provided descriptions of commands and steps for Tasks 1 to 7, including code snippets and outputs."
   ]
  },
  {
   "cell_type": "markdown",
   "metadata": {},
   "source": [
    "**Task 9: Data Analysis with Pandas**  \n",
    "**Objective:** Load and analyze downloaded weather data using Python’s Pandas library.\n",
    "\n",
    "**Steps:**\n",
    "- Loaded a weather data file using `read_json()`.\n",
    "- Examined the dataset structure, provided summaries, and analyzed key statistics.\n",
    "\n",
    "**Code Example:**\n",
    "```python\n",
    "import pandas as pd\n",
    "\n",
    "# Load the JSON file\n",
    "weather_df = pd.read_json('data/weather/weather_20241118_093936.json')\n",
    "\n",
    "# Display the first few rows\n",
    "print(weather_df.head())\n",
    "\n",
    "# Summary of the data structure\n",
    "print(weather_df.info())\n",
    "\n",
    "# Statistical overview\n",
    "print(weather_df.describe())\n",
    "```\n",
    "\n",
    "**Output:**  \n",
    "The dataset provides insights into weather conditions, including temperature, wind speed, humidity, and rainfall."
   ]
  },
  {
   "cell_type": "markdown",
   "metadata": {},
   "source": [
    "**Conclusion**  \n",
    "This assessment highlights the integration of practical system management techniques with data processing tasks, demonstrating effective methods for organizing, collecting, and analyzing data."
   ]
  },
  {
   "cell_type": "markdown",
   "metadata": {},
   "source": [
    "### Tasks weather analysis:\n"
   ]
  },
  {
   "cell_type": "code",
   "execution_count": null,
   "metadata": {},
   "outputs": [],
   "source": [
    "#Data frame\n",
    "import pandas as pd\n"
   ]
  },
  {
   "cell_type": "code",
   "execution_count": 19,
   "metadata": {},
   "outputs": [],
   "source": [
    "# Load the JSON file\n",
    "weather_df = pd.read_json('data/weather/20241118_093936.json')"
   ]
  },
  {
   "cell_type": "code",
   "execution_count": 20,
   "metadata": {},
   "outputs": [
    {
     "name": "stdout",
     "output_type": "stream",
     "text": [
      "      name  temperature symbol  weatherDescription               text  \\\n",
      "0  Athenry            8    46n         Light rain       \"Light rain \"   \n",
      "1  Athenry            8    46n         Light rain   \"Recent Drizzle \"   \n",
      "2  Athenry            7    05n        Rain showers      \"Rain shower\"   \n",
      "3  Athenry            7    40n  Light rain showers      \"Recent Rain\"   \n",
      "4  Athenry            7    15n          Fog / Mist             \"Mist\"   \n",
      "\n",
      "   windSpeed windGust cardinalWindDirection  windDirection  humidity  \\\n",
      "0          6        -                    NW            315        97   \n",
      "1          6        -                     N              0        97   \n",
      "2          4        -                    NW            315        97   \n",
      "3          2        -                     N              0        97   \n",
      "4          2        -                     S            180        99   \n",
      "\n",
      "   rainfall  pressure dayName       date reportTime  \n",
      "0      0.01      1014  Monday 2024-11-18      00:00  \n",
      "1      0.10      1014  Monday 2024-11-18      01:00  \n",
      "2      0.01      1014  Monday 2024-11-18      02:00  \n",
      "3      0.01      1014  Monday 2024-11-18      03:00  \n",
      "4      0.00      1013  Monday 2024-11-18      04:00  \n"
     ]
    }
   ],
   "source": [
    "# Summarize the data\n",
    "print(weather_df.head())       # Display first 5 rows"
   ]
  },
  {
   "cell_type": "code",
   "execution_count": 21,
   "metadata": {},
   "outputs": [
    {
     "name": "stdout",
     "output_type": "stream",
     "text": [
      "<class 'pandas.core.frame.DataFrame'>\n",
      "RangeIndex: 10 entries, 0 to 9\n",
      "Data columns (total 15 columns):\n",
      " #   Column                 Non-Null Count  Dtype         \n",
      "---  ------                 --------------  -----         \n",
      " 0   name                   10 non-null     object        \n",
      " 1   temperature            10 non-null     int64         \n",
      " 2   symbol                 10 non-null     object        \n",
      " 3   weatherDescription     10 non-null     object        \n",
      " 4   text                   10 non-null     object        \n",
      " 5   windSpeed              10 non-null     int64         \n",
      " 6   windGust               10 non-null     object        \n",
      " 7   cardinalWindDirection  10 non-null     object        \n",
      " 8   windDirection          10 non-null     int64         \n",
      " 9   humidity               10 non-null     int64         \n",
      " 10  rainfall               10 non-null     float64       \n",
      " 11  pressure               10 non-null     int64         \n",
      " 12  dayName                10 non-null     object        \n",
      " 13  date                   10 non-null     datetime64[ns]\n",
      " 14  reportTime             10 non-null     object        \n",
      "dtypes: datetime64[ns](1), float64(1), int64(5), object(8)\n",
      "memory usage: 1.3+ KB\n",
      "None\n"
     ]
    }
   ],
   "source": [
    "# Summarize the data\n",
    "print(weather_df.info())       # General info about the dataset"
   ]
  },
  {
   "cell_type": "code",
   "execution_count": 23,
   "metadata": {},
   "outputs": [
    {
     "name": "stdout",
     "output_type": "stream",
     "text": [
      "       temperature  windSpeed  windDirection   humidity   rainfall  \\\n",
      "count    10.000000  10.000000      10.000000  10.000000  10.000000   \n",
      "mean      7.100000   5.900000     126.000000  96.700000   0.234000   \n",
      "min       6.000000   2.000000       0.000000  95.000000   0.000000   \n",
      "25%       7.000000   4.000000      90.000000  96.250000   0.010000   \n",
      "50%       7.000000   6.000000      90.000000  97.000000   0.055000   \n",
      "75%       7.000000   6.750000     157.500000  97.000000   0.550000   \n",
      "max       8.000000  13.000000     315.000000  99.000000   0.700000   \n",
      "std       0.567646   3.314949     111.848111   1.159502   0.323666   \n",
      "\n",
      "          pressure                 date  \n",
      "count    10.000000                   10  \n",
      "mean   1013.100000  2024-11-18 00:00:00  \n",
      "min    1011.000000  2024-11-18 00:00:00  \n",
      "25%    1013.000000  2024-11-18 00:00:00  \n",
      "50%    1013.000000  2024-11-18 00:00:00  \n",
      "75%    1014.000000  2024-11-18 00:00:00  \n",
      "max    1014.000000  2024-11-18 00:00:00  \n",
      "std       0.994429                  NaN  \n"
     ]
    }
   ],
   "source": [
    "# Summarize the data\n",
    "print(weather_df.describe())   # Statistical summary of numerical columns"
   ]
  },
  {
   "cell_type": "code",
   "execution_count": null,
   "metadata": {},
   "outputs": [],
   "source": []
  }
 ],
 "metadata": {
  "kernelspec": {
   "display_name": "Python 3",
   "language": "python",
   "name": "python3"
  },
  "language_info": {
   "codemirror_mode": {
    "name": "ipython",
    "version": 3
   },
   "file_extension": ".py",
   "mimetype": "text/x-python",
   "name": "python",
   "nbconvert_exporter": "python",
   "pygments_lexer": "ipython3",
   "version": "3.12.1"
  }
 },
 "nbformat": 4,
 "nbformat_minor": 2
}
